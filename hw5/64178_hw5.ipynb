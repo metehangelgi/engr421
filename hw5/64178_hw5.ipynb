{
 "cells": [
  {
   "cell_type": "code",
   "execution_count": 1,
   "id": "499536a4",
   "metadata": {},
   "outputs": [],
   "source": [
    "import math\n",
    "import matplotlib.pyplot as plt\n",
    "import numpy as np\n",
    "\n",
    "def safelog2(x):\n",
    "    if x == 0:\n",
    "        return(0)\n",
    "    else:\n",
    "        return(np.log2(x))"
   ]
  },
  {
   "cell_type": "markdown",
   "id": "5e3746ba",
   "metadata": {},
   "source": [
    "## Importing Data"
   ]
  },
  {
   "cell_type": "code",
   "execution_count": 2,
   "id": "c41bfeed",
   "metadata": {},
   "outputs": [],
   "source": [
    "data_set = np.genfromtxt(\"hw05_data_set.csv\", delimiter = \",\",skip_header=1) # skip header\n",
    "\n",
    "X = data_set[0:,0]\n",
    "y = data_set[0:,1]\n",
    "\n",
    "N = X.shape[0]\n",
    "\n",
    "# get train and test splits\n",
    "train_indices = np.arange(0, 150) # 150 data points to the training \n",
    "test_indices = np.setdiff1d(range(N), train_indices)\n",
    "\n",
    "x_train = X[train_indices,]\n",
    "y_train = y[train_indices,]\n",
    "x_test = X[test_indices,]\n",
    "y_test = y[test_indices,]\n",
    "\n",
    "N_train = train_indices.shape[0]\n",
    "N_test = test_indices.shape[0]"
   ]
  },
  {
   "cell_type": "markdown",
   "id": "40ab8eae",
   "metadata": {},
   "source": [
    "## Initialization"
   ]
  },
  {
   "cell_type": "code",
   "execution_count": 3,
   "id": "d9934660",
   "metadata": {},
   "outputs": [],
   "source": [
    "# create necessary data structures\n",
    "node_indices = {}\n",
    "is_terminal = {}\n",
    "need_split = {}\n",
    "\n",
    "node_features = {} # not needed since we do not show tree\n",
    "node_splits = {}\n",
    "\n",
    "# put all training instances into the root node\n",
    "node_indices[1] = np.array(range(N_train))\n",
    "is_terminal[1] = False\n",
    "need_split[1] = True"
   ]
  },
  {
   "cell_type": "markdown",
   "id": "7d3751a2",
   "metadata": {},
   "source": [
    "## Tree Inference"
   ]
  },
  {
   "cell_type": "code",
   "execution_count": 4,
   "id": "2209ef6e",
   "metadata": {},
   "outputs": [],
   "source": [
    "# learning algorithm\n",
    "def learnTree(prePrunningParam):\n",
    "    while True:\n",
    "        # find nodes that need splitting\n",
    "        split_nodes = [key for key, value in need_split.items() if value == True]\n",
    "        # check whether we reach all terminal nodes\n",
    "        if len(split_nodes) == 0:\n",
    "            break\n",
    "        # find best split positions for all nodes\n",
    "        for split_node in split_nodes:\n",
    "            data_indices = node_indices[split_node]\n",
    "            need_split[split_node] = False\n",
    "            if data_indices.shape[0] <= prePrunningParam: #check the pre-pruning parameter P\n",
    "                is_terminal[split_node] = True\n",
    "            else:\n",
    "                is_terminal[split_node] = False\n",
    "                best_scores = 0.0\n",
    "                best_splits = 0.0\n",
    "                unique_values = np.sort(np.unique(x_train[data_indices]))\n",
    "                split_positions = (unique_values[1:len(unique_values)] + unique_values[0:(len(unique_values) - 1)]) / 2\n",
    "                split_scores = np.repeat(0.0, len(split_positions))\n",
    "                # no iteration for number of Feature(D)\n",
    "                for s in range(len(split_positions)):\n",
    "                    left = np.sum((x_train[data_indices] < split_positions[s]) * y_train[data_indices]) / np.sum((x_train[data_indices] < split_positions[s]))\n",
    "                    right = np.sum((x_train[data_indices] >= split_positions[s]) * y_train[data_indices]) / np.sum((x_train[data_indices] >= split_positions[s]))\n",
    "                    split_scores[s] = 1 / len(data_indices) * (np.sum((y_train[data_indices]-np.repeat(left, data_indices.shape[0], axis = 0))**2 * (x_train[data_indices] < split_positions[s])) + np.sum((y_train[data_indices] - np.repeat(right, data_indices.shape[0], axis = 0))**2 * (x_train[data_indices] >= split_positions[s])))\n",
    "                \n",
    "                best_scores = np.min(split_scores)\n",
    "                best_splits = split_positions[np.argmin(split_scores)]\n",
    "\n",
    "                node_splits[split_node] = best_splits\n",
    "                # create left node using the selected split\n",
    "                left_indices = data_indices[x_train[data_indices] < best_splits]\n",
    "                node_indices[2 * split_node] = left_indices\n",
    "                is_terminal[2 * split_node] = False\n",
    "                need_split[2 * split_node] = True\n",
    "\n",
    "                # create right node using the selected split\n",
    "                right_indices = data_indices[x_train[data_indices] >= best_splits]\n",
    "                node_indices[2 * split_node + 1] = right_indices\n",
    "                is_terminal[2 * split_node + 1] = False\n",
    "                need_split[2 * split_node + 1] = True\n",
    "                \n",
    "                #print(node_splits)"
   ]
  },
  {
   "cell_type": "code",
   "execution_count": 5,
   "id": "da4d4c2f",
   "metadata": {},
   "outputs": [],
   "source": [
    "prePrunningParam=25\n",
    "learnTree(prePrunningParam)"
   ]
  },
  {
   "cell_type": "code",
   "execution_count": 6,
   "id": "90c4e8ee",
   "metadata": {},
   "outputs": [
    {
     "data": {
      "image/png": "[encoded data removed]",
      "text/plain": [
       "<Figure size 1080x432 with 1 Axes>"
      ]
     },
     "metadata": {
      "needs_background": "light"
     },
     "output_type": "display_data"
    }
   ],
   "source": [
    "minimum_value = 1.5\n",
    "maximum_value = 5.25\n",
    "node_split_values = np.sort(np.array(list(node_splits.items()))[:,1])\n",
    "left_borders = np.append(minimum_value, np.transpose(np.sort(np.array(list(node_splits.items()))[:,1])))\n",
    "right_borders = np.append(np.transpose(np.sort(np.array(list(node_splits.items()))[:,1])), maximum_value)\n",
    "\n",
    "p_hat = np.asarray([np.sum(((left_borders[b] < x_train) & (x_train <= right_borders[b])) * y_train) for b in range(len(left_borders))]) / np.asarray([np.sum((left_borders[b] < x_train) & (x_train <= right_borders[b])) for b in range(len(left_borders))])\n",
    "\n",
    "plt.figure(figsize = (15, 6))\n",
    "plt.title(\"P = 25\")\n",
    "plt.xlabel(\"Eruption time (min)\")\n",
    "plt.ylabel(\"Waiting time to next eruption (min)\")\n",
    "plt.plot(x_train, y_train, \"b.\", label = 'training', markersize = 10)\n",
    "plt.plot(x_test, y_test, \"r.\", label = 'test', markersize = 10)\n",
    "plt.legend(loc = \"upper left\")\n",
    "for b in range(len(left_borders)):\n",
    "    plt.plot([left_borders[b], right_borders[b]], [p_hat[b], p_hat[b]], \"k-\")\n",
    "for b in range(len(left_borders) - 1):\n",
    "    plt.plot([right_borders[b], right_borders[b]], [p_hat[b], p_hat[b + 1]], \"k-\")\n",
    "plt.show()"
   ]
  },
  {
   "cell_type": "code",
   "execution_count": 7,
   "id": "df8c0824",
   "metadata": {},
   "outputs": [],
   "source": [
    "def calculateRMSE(N,x,y,p_hat):    \n",
    "    sum_regress = 0\n",
    "    for i in range(N):\n",
    "        for a in range(len(left_borders)):\n",
    "            if (left_borders[a] < x[i]) and (x[i] <= right_borders[a]):\n",
    "                sum_regress += (y[i] - p_hat[a])**2\n",
    "    rmse_regress = math.sqrt(sum_regress/N)\n",
    "    return(rmse_regress)"
   ]
  },
  {
   "cell_type": "code",
   "execution_count": 8,
   "id": "8bf0b62f",
   "metadata": {},
   "outputs": [
    {
     "name": "stdout",
     "output_type": "stream",
     "text": [
      "RMSE on training set is 4.541214189194451 when P is 25\n",
      "RMSE on test set is 6.454083413352087 when P is 25\n"
     ]
    }
   ],
   "source": [
    "print(\"RMSE on training set is\", calculateRMSE(N_train,x_train,y_train,p_hat), \"when P is 25\")\n",
    "print(\"RMSE on test set is\", calculateRMSE(N_test,x_test,y_test,p_hat), \"when P is 25\")"
   ]
  },
  {
   "cell_type": "code",
   "execution_count": 9,
   "id": "e01f771a",
   "metadata": {},
   "outputs": [],
   "source": [
    "P_values_train = []\n",
    "P_values_test = []\n",
    "rmse_values_train = []\n",
    "rmse_values = []\n",
    "for p in range(5,55,5): #pre-pruning parameter P to 5,10..50\n",
    "    node_indices = {}\n",
    "    is_terminal = {}\n",
    "    need_split = {}\n",
    "\n",
    "    node_features = {} # not needed since we do not show tree\n",
    "    node_splits = {}\n",
    "\n",
    "    node_indices[1] = np.array(range(N_train))\n",
    "    is_terminal[1] = False\n",
    "    need_split[1] = True\n",
    "    learnTree(p) # learning tree with different pre-pruning parameters\n",
    "    \n",
    "    node_split_values = np.sort(np.array(list(node_splits.items()))[:,1])\n",
    "    left_borders = np.append(minimum_value, np.transpose(np.sort(np.array(list(node_splits.items()))[:,1])))\n",
    "    right_borders = np.append(np.transpose(np.sort(np.array(list(node_splits.items()))[:,1])), maximum_value)\n",
    "    p_hat = np.asarray([np.sum(((left_borders[b] < x_train) & (x_train <= right_borders[b])) * y_train) for b in range(len(left_borders))]) / np.asarray([np.sum((left_borders[b] < x_train) & (x_train <= right_borders[b])) for b in range(len(left_borders))])\n",
    "    \n",
    "    rmse_regress_train = calculateRMSE(N_train,x_train,y_train,p_hat)\n",
    "    P_values_train.append(p)\n",
    "    rmse_values_train.append(rmse_regress_train)\n",
    "    \n",
    "    rmse_regress = calculateRMSE(N_test,x_test,y_test,p_hat)\n",
    "    P_values_test.append(p)\n",
    "    rmse_values.append(rmse_regress)"
   ]
  },
  {
   "cell_type": "code",
   "execution_count": 10,
   "id": "5b7fbceb",
   "metadata": {},
   "outputs": [
    {
     "data": {
      "image/png": "[encoded data removed]",
      "text/plain": [
       "<Figure size 720x720 with 1 Axes>"
      ]
     },
     "metadata": {
      "needs_background": "light"
     },
     "output_type": "display_data"
    }
   ],
   "source": [
    "plt.figure(figsize = (10, 10))\n",
    "#print(rmse_values_train)\n",
    "plt.plot(P_values_train, rmse_values_train, marker = \".\", markersize = 10, linestyle = \"-\", color = \"b\",label='train')\n",
    "plt.plot(P_values_test, rmse_values, marker = \".\", markersize = 10, linestyle = \"-\", color = \"r\",label='test')\n",
    "plt.xlabel(\"Pre-pruning size (P)\")\n",
    "plt.ylabel(\"RMSE\")\n",
    "plt.legend(['training', 'test'])\n",
    "plt.show()"
   ]
  },
  {
   "cell_type": "code",
   "execution_count": null,
   "id": "b8f20c8b",
   "metadata": {},
   "outputs": [],
   "source": []
  },
  {
   "cell_type": "code",
   "execution_count": null,
   "id": "2913f465",
   "metadata": {},
   "outputs": [],
   "source": []
  }
 ],
 "metadata": {
  "kernelspec": {
   "display_name": "Python 3",
   "language": "python",
   "name": "python3"
  },
  "language_info": {
   "codemirror_mode": {
    "name": "ipython",
    "version": 3
   },
   "file_extension": ".py",
   "mimetype": "text/x-python",
   "name": "python",
   "nbconvert_exporter": "python",
   "pygments_lexer": "ipython3",
   "version": "3.8.8"
  }
 },
 "nbformat": 4,
 "nbformat_minor": 5
}
