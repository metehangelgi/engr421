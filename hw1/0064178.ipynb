{
 "cells": [
  {
   "cell_type": "markdown",
   "metadata": {},
   "source": [
    "# Metehan Gelgi"
   ]
  },
  {
   "cell_type": "code",
   "execution_count": 1,
   "metadata": {},
   "outputs": [],
   "source": [
    "import math\n",
    "import matplotlib.pyplot as plt\n",
    "import numpy as np\n",
    "import scipy.stats as stats\n",
    "import pandas as pd"
   ]
  },
  {
   "cell_type": "code",
   "execution_count": 2,
   "metadata": {},
   "outputs": [],
   "source": [
    "np.random.seed(421)\n",
    "# mean parameters\n",
    "class_means = np.array([[0.0,2.5],\n",
    "                        [-2.5,-2.0],\n",
    "                        [2.5,-2.0]])\n",
    "# standard covariance parameters\n",
    "class_covariances = np.array([[[3.2,0.0],\n",
    "                               [0.0,1.2]],\n",
    "                              \n",
    "                              [[1.2,0.8],\n",
    "                               [0.8,1.2]],\n",
    "                              \n",
    "                              [[1.2,-0.8],\n",
    "                               [-0.8,1.2]]])\n",
    "# sample sizes\n",
    "class_sizes = np.array([120, 80, 100])"
   ]
  },
  {
   "cell_type": "code",
   "execution_count": 3,
   "metadata": {},
   "outputs": [],
   "source": [
    "# generate random samples\n",
    "points1 = np.random.multivariate_normal(class_means[0,:], class_covariances[0,:,:], class_sizes[0])\n",
    "points2 = np.random.multivariate_normal(class_means[1,:], class_covariances[1,:,:], class_sizes[1])\n",
    "points3 = np.random.multivariate_normal(class_means[2,:], class_covariances[2,:,:], class_sizes[2])\n",
    "X = np.vstack((points1, points2, points3))\n",
    "\n",
    "# generate corresponding labels\n",
    "y = np.concatenate((np.repeat(1, class_sizes[0]), np.repeat(2, class_sizes[1]), np.repeat(3, class_sizes[2])))"
   ]
  },
  {
   "cell_type": "code",
   "execution_count": 4,
   "metadata": {},
   "outputs": [],
   "source": [
    "# write data to a file\n",
    "np.savetxt(\"HW01_data_set.csv\", np.hstack((X, y[:, None])), fmt = \"%f,%f,%d\")"
   ]
  },
  {
   "cell_type": "code",
   "execution_count": 5,
   "metadata": {},
   "outputs": [
    {
     "data": {
      "image/png": "[encoded data removed]",
      "text/plain": [
       "<Figure size 432x432 with 1 Axes>"
      ]
     },
     "metadata": {
      "needs_background": "light"
     },
     "output_type": "display_data"
    }
   ],
   "source": [
    "# plot data points generated\n",
    "columns = [\"x1\",\"x2\"]\n",
    "plt.figure(figsize=(6, 6))\n",
    "plt.plot(points1[:, 0], points1[:, 1], \"r.\", markersize=10)\n",
    "plt.plot(points2[:, 0], points2[:, 1], \"g.\", markersize=10)\n",
    "plt.plot(points3[:, 0], points3[:, 1], \"b.\", markersize=10)\n",
    "\n",
    "plt.xlabel(columns[0])\n",
    "plt.ylabel(columns[1])\n",
    "plt.show()"
   ]
  },
  {
   "cell_type": "code",
   "execution_count": 6,
   "metadata": {},
   "outputs": [],
   "source": [
    "# read data into memory\n",
    "data_set = np.genfromtxt(\"HW01_data_set.csv\", delimiter = \",\")\n",
    "\n",
    "# get X and y values\n",
    "X = data_set[:,[0, 1]]\n",
    "y_truth = data_set[:,2].astype(int)\n",
    "\n",
    "# get number of classes and number of samples\n",
    "K = np.max(y_truth)\n",
    "N = data_set.shape[0]"
   ]
  },
  {
   "cell_type": "markdown",
   "metadata": {},
   "source": [
    "$\\hat{\\mu} = \\dfrac{\\sum\\limits_{i = 1}^{N} x_{i}}{N}$"
   ]
  },
  {
   "cell_type": "code",
   "execution_count": 7,
   "metadata": {},
   "outputs": [
    {
     "name": "stdout",
     "output_type": "stream",
     "text": [
      "\u001b[4msample_means\u001b[0m \n",
      "\n",
      "[0.04453807 2.61225132] \n",
      "\n",
      "[-2.65871584 -2.04611636] \n",
      "\n",
      "[ 2.5605445  -2.12492713] \n",
      "\n"
     ]
    }
   ],
   "source": [
    "# calculate sample means\n",
    "sample_means = [np.mean(X[y_truth == (c + 1)], axis=0) for c in range(K)]\n",
    "\n",
    "print(\"\\033[4msample_means\\033[0m \\n\")\n",
    "for sample_mean in sample_means:\n",
    "    print(sample_mean,\"\\n\")"
   ]
  },
  {
   "cell_type": "markdown",
   "metadata": {},
   "source": [
    "$\\hat{\\Sigma} = \\dfrac{\\sum\\limits_{i = 1}^{N} (x_{i} - \\widehat{\\mu_{c}}) (x_{i} - \\widehat{\\mu_{c}})^{T}}{N}$"
   ]
  },
  {
   "cell_type": "code",
   "execution_count": 8,
   "metadata": {},
   "outputs": [
    {
     "name": "stdout",
     "output_type": "stream",
     "text": [
      "\u001b[4msample_covariances\u001b[0m \n",
      "\n",
      "[[2.81619315 0.22436505]\n",
      " [0.22436505 1.00404695]] \n",
      "\n",
      "[[1.42028643 1.01066174]\n",
      " [1.01066174 1.36103143]] \n",
      "\n",
      "[[ 1.40686636 -1.07838139]\n",
      " [-1.07838139  1.5075388 ]] \n",
      "\n"
     ]
    }
   ],
   "source": [
    "# calculate sample covariences\n",
    "# in this code there is something that I couldn't handle it. in sample covarience formula we have (xi - mu)(xi-mu)T\n",
    "# However in the code, whenever I do it that way, it creates meaningles matrix. So I tried other way. \n",
    "sample_covariances = [\n",
    "    (np.matmul(np.transpose(X[y == (c + 1)] - sample_means[c]), \n",
    "               (X[y_truth == (c + 1)] - sample_means[c])) / class_sizes[c]) for c in range(K)]\n",
    "print(\"\\033[4msample_covariances\\033[0m \\n\")\n",
    "for sample_covariance in sample_covariances:\n",
    "    print(sample_covariance,\"\\n\")"
   ]
  },
  {
   "cell_type": "markdown",
   "metadata": {},
   "source": [
    "$\\widehat{P}(y_{i} = c) = \\dfrac{\\sum\\limits_{i = 1}^{N} (y_{i} = c)}{N}$"
   ]
  },
  {
   "cell_type": "code",
   "execution_count": 9,
   "metadata": {},
   "outputs": [
    {
     "name": "stdout",
     "output_type": "stream",
     "text": [
      "\u001b[4mclass_priors\u001b[0m \n",
      " [0.4, 0.26666666666666666, 0.3333333333333333]\n"
     ]
    }
   ],
   "source": [
    "# calculate prior probabilities\n",
    "class_priors = [np.mean(y_truth == (c + 1)) for c in range(K)]\n",
    "\n",
    "print(\"\\033[4mclass_priors\\033[0m \\n\", class_priors)"
   ]
  },
  {
   "cell_type": "markdown",
   "metadata": {},
   "source": [
    "$W_c=\\dfrac{-1}{2} \\hat{\\Sigma}_{c}^{-1}$"
   ]
  },
  {
   "cell_type": "code",
   "execution_count": 10,
   "metadata": {},
   "outputs": [],
   "source": [
    "Wc = np.array([np.linalg.inv(sample_covariances[c]) / -2 for c in range(K)])"
   ]
  },
  {
   "cell_type": "markdown",
   "metadata": {},
   "source": [
    "$w_c=\\hat{\\Sigma}_{c}^{-1} \\hat{\\mu_{c}}$"
   ]
  },
  {
   "cell_type": "code",
   "execution_count": 11,
   "metadata": {},
   "outputs": [],
   "source": [
    "wc = np.array([np.matmul(np.linalg.inv(sample_covariances[c]), sample_means[c]) for c in range(K)])"
   ]
  },
  {
   "cell_type": "markdown",
   "metadata": {},
   "source": [
    "$w_{c0}=\\dfrac{-1}{2}\\hat{\\mu_{c}}^{T} \\hat{\\Sigma}_{c}^{-1} \\hat{\\mu_{c}}- \\dfrac{D}{2}\\log{(2\\pi)}-\\dfrac{1}{2}\\log{|\\hat{\\Sigma}_{c}|}+\\log{[\\hat{P}(y=c)]}$"
   ]
  },
  {
   "cell_type": "markdown",
   "metadata": {},
   "source": [
    "-> $\\dfrac{D}{2}\\log{(2\\pi)}$\n",
    "\n",
    "this part will cancel each other out in the score function, since it is constant and has no effect for the results."
   ]
  },
  {
   "cell_type": "code",
   "execution_count": 12,
   "metadata": {},
   "outputs": [
    {
     "name": "stdout",
     "output_type": "stream",
     "text": [
      "\u001b[4mWc\u001b[0m \n",
      " [[[-0.18076277  0.04039338]\n",
      "  [ 0.04039338 -0.50701102]]\n",
      "\n",
      " [[-0.74649274  0.55432346]\n",
      "  [ 0.55432346 -0.77899267]]\n",
      "\n",
      " [[-0.78681631 -0.56283   ]\n",
      "  [-0.56283    -0.73427324]]]\n",
      "\u001b[4mwc\u001b[0m \n",
      " [[-0.19493365  2.6452823 ]\n",
      " [-1.70100354 -0.24024219]\n",
      " [ 1.63741087 -0.23825172]]\n",
      "\u001b[4mwc0\u001b[0m \n",
      " [-4.87775153 -3.78251262 -3.4266236 ]\n"
     ]
    }
   ],
   "source": [
    "wc0 = np.array([-(np.matmul(np.matmul(np.transpose(sample_means[c]), \n",
    "                                      np.linalg.inv(sample_covariances[c])),sample_means[c])) / 2 \n",
    "                - np.log(np.linalg.det(sample_covariances[c])) / 2 \n",
    "                + np.log(class_priors[c]) for c in range(K)])\n",
    "\n",
    "print(\"\\033[4mWc\\033[0m \\n\", Wc)\n",
    "print(\"\\033[4mwc\\033[0m \\n\", wc)\n",
    "print(\"\\033[4mwc0\\033[0m \\n\", wc0)"
   ]
  },
  {
   "cell_type": "markdown",
   "metadata": {},
   "source": [
    "$g_c(x)=x^TW_cx+{w}_c^Tx+w_{c0}$"
   ]
  },
  {
   "cell_type": "code",
   "execution_count": 13,
   "metadata": {},
   "outputs": [],
   "source": [
    "def score_def(x):\n",
    "    scores = np.array([0, 0, 0])\n",
    "    for i in range(K):\n",
    "        score = np.matmul(np.matmul(np.transpose(x), Wc[i]), x) + np.matmul(np.transpose(wc[i]), x) + wc0[i]\n",
    "        scores[i] = score\n",
    "    return scores"
   ]
  },
  {
   "cell_type": "code",
   "execution_count": 14,
   "metadata": {},
   "outputs": [],
   "source": [
    "g_scores = [score_def(X[i]) for i in range(len(X))]\n",
    "\n",
    "# by using this I am checking maximum value(maximum g score). Then adds label max one. \n",
    "\n",
    "predict = [None] * X.shape[0]\n",
    "for i in range(len(g_scores)):\n",
    "    max_g=np.max(g_scores[i])\n",
    "    if g_scores[i][0]==max_g:\n",
    "        predict[i]=1\n",
    "    elif g_scores[i][1]==max_g:\n",
    "        predict[i]=2\n",
    "    else :\n",
    "        predict[i]=3\n",
    "\n",
    "predicted_label=np.array(predict)"
   ]
  },
  {
   "cell_type": "code",
   "execution_count": 18,
   "metadata": {},
   "outputs": [
    {
     "data": {
      "text/plain": [
       "(300, 3)"
      ]
     },
     "execution_count": 18,
     "metadata": {},
     "output_type": "execute_result"
    }
   ],
   "source": [
    "np.shape(g_scores)"
   ]
  },
  {
   "cell_type": "code",
   "execution_count": 15,
   "metadata": {},
   "outputs": [
    {
     "name": "stdout",
     "output_type": "stream",
     "text": [
      "\u001b[4mconfusion_matrix\u001b[0m \n",
      " y_truth    1   2   3\n",
      "y_pred              \n",
      "1        119   1   2\n",
      "2          1  79   2\n",
      "3          0   0  96\n"
     ]
    }
   ],
   "source": [
    "confusion_matrix = pd.crosstab(predicted_label, y_truth, rownames=['y_pred'], colnames=['y_truth'])\n",
    "print(\"\\033[4mconfusion_matrix\\033[0m \\n\", confusion_matrix)"
   ]
  },
  {
   "cell_type": "markdown",
   "metadata": {},
   "source": [
    "$g_c(x)=x^TW_cx+{w}_c^Tx+w_{c0}$"
   ]
  },
  {
   "cell_type": "code",
   "execution_count": 40,
   "metadata": {},
   "outputs": [
    {
     "data": {
      "image/png": "[encoded data removed]",
      "text/plain": [
       "<Figure size 720x720 with 1 Axes>"
      ]
     },
     "metadata": {
      "needs_background": "light"
     },
     "output_type": "display_data"
    }
   ],
   "source": [
    "x1_interval = np.linspace(-6, +6, 121)\n",
    "x2_interval = np.linspace(-6, +6, 121)\n",
    "x1_grid, x2_grid = np.meshgrid(x1_interval, x2_interval)\n",
    "discriminant_values = np.zeros((len(x1_interval), len(x2_interval), K))\n",
    "\n",
    "# plot figure \n",
    "plt.figure(figsize=(10, 10))\n",
    "plt.plot(X[y_truth == 1, 0], X[y_truth == 1, 1], \"r.\", markersize=10)\n",
    "plt.plot(X[y_truth == 2, 0], X[y_truth == 2, 1], \"g.\", markersize=10)\n",
    "plt.plot(X[y_truth == 3, 0], X[y_truth == 3, 1], \"b.\", markersize=10)\n",
    "\n",
    "# pointing out misclassified points\n",
    "plt.plot(X[predicted_label != y_truth, 0], X[predicted_label != y_truth, 1], \"ko\", markersize=12, fillstyle=\"none\")\n",
    "\n",
    "#for each label calculate discriminant values \n",
    "for c in range(K):\n",
    "    for i in range(x1_grid.shape[0]):\n",
    "        for j in range(x2_grid.shape[1]):\n",
    "            x = np.array([x1_grid[i][j],x2_grid[i][j]]).reshape(2,1)\n",
    "            discriminant_values[i, j, c] = (np.matmul(np.matmul(np.transpose(x),Wc[c]),x)+\n",
    "                                            np.matmul(np.transpose(wc[c]),x)+\n",
    "                                            wc0[c])\n",
    "\n",
    "A = discriminant_values[:, :, 0]\n",
    "B = discriminant_values[:, :, 1]\n",
    "C = discriminant_values[:, :, 2]\n",
    "A[(A < B) & (A < C)] = np.nan\n",
    "B[(B < A) & (B < C)] = np.nan\n",
    "C[(C < A) & (C < B)] = np.nan\n",
    "discriminant_values[:, :, 0] = A\n",
    "discriminant_values[:, :, 1] = B\n",
    "discriminant_values[:, :, 2] = C\n",
    "\n",
    "plt.contour(x1_grid, x2_grid, discriminant_values[:, :, 0] - discriminant_values[:, :, 1], levels=0, colors=\"k\")\n",
    "plt.contour(x1_grid, x2_grid, discriminant_values[:, :, 0] - discriminant_values[:, :, 2], levels=0, colors=\"k\")\n",
    "plt.contour(x1_grid, x2_grid, discriminant_values[:, :, 1] - discriminant_values[:, :, 2], levels=0, colors=\"k\")\n",
    "\n",
    "\n",
    "\n",
    "plt.xlabel(columns[0])\n",
    "plt.ylabel(columns[1])\n",
    "plt.show()"
   ]
  },
  {
   "cell_type": "code",
   "execution_count": null,
   "metadata": {},
   "outputs": [],
   "source": []
  },
  {
   "cell_type": "code",
   "execution_count": null,
   "metadata": {},
   "outputs": [],
   "source": []
  },
  {
   "cell_type": "code",
   "execution_count": null,
   "metadata": {},
   "outputs": [],
   "source": []
  }
 ],
 "metadata": {
  "kernelspec": {
   "display_name": "Python 3 (ipykernel)",
   "language": "python",
   "name": "python3"
  },
  "language_info": {
   "codemirror_mode": {
    "name": "ipython",
    "version": 3
   },
   "file_extension": ".py",
   "mimetype": "text/x-python",
   "name": "python",
   "nbconvert_exporter": "python",
   "pygments_lexer": "ipython3",
   "version": "3.7.7"
  }
 },
 "nbformat": 4,
 "nbformat_minor": 4
}
