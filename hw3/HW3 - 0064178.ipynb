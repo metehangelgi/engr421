{
 "cells": [
  {
   "cell_type": "markdown",
   "metadata": {},
   "source": [
    "# Metehan Gelgi"
   ]
  },
  {
   "cell_type": "markdown",
   "metadata": {},
   "source": [
    "## Imports"
   ]
  },
  {
   "cell_type": "code",
   "execution_count": 1,
   "metadata": {},
   "outputs": [],
   "source": [
    "import matplotlib.pyplot as plt\n",
    "import numpy as np\n",
    "import pandas as pd\n",
    "\n",
    "def safelog(x):\n",
    "    return(np.log(x + 1e-100))"
   ]
  },
  {
   "cell_type": "markdown",
   "metadata": {},
   "source": [
    "## Parameters"
   ]
  },
  {
   "cell_type": "code",
   "execution_count": 2,
   "metadata": {},
   "outputs": [],
   "source": [
    "np.random.seed(421)\n",
    "# mean parameters\n",
    "class_means = np.array([[+0.0, +2.5], \n",
    "                        [-2.5, -2.0], \n",
    "                        [+2.5, -2.0]])\n",
    "# covariance parameters\n",
    "class_covariances = np.array([[[+3.2, +0.0], \n",
    "                               [+0.0, +1.2]],\n",
    "                              [[+1.2, +0.8], \n",
    "                               [+0.8, +1.2]],\n",
    "                              [[+1.2, -0.8], \n",
    "                               [-0.8, +1.2]]])\n",
    "# sample sizes\n",
    "class_sizes = np.array([120, 80, 100])"
   ]
  },
  {
   "cell_type": "markdown",
   "metadata": {},
   "source": [
    "## Data Generation"
   ]
  },
  {
   "cell_type": "code",
   "execution_count": 3,
   "metadata": {},
   "outputs": [],
   "source": [
    "# generate random samples\n",
    "points1 = np.random.multivariate_normal(class_means[0,:], class_covariances[0,:,:], class_sizes[0])\n",
    "points2 = np.random.multivariate_normal(class_means[1,:], class_covariances[1,:,:], class_sizes[1])\n",
    "points3 = np.random.multivariate_normal(class_means[2,:], class_covariances[2,:,:], class_sizes[2])\n",
    "X = np.vstack((points1, points2, points3))\n",
    "\n",
    "# generate corresponding labels\n",
    "y = np.concatenate((np.repeat(1, class_sizes[0]), np.repeat(2, class_sizes[1]), np.repeat(3, class_sizes[2])))"
   ]
  },
  {
   "cell_type": "markdown",
   "metadata": {},
   "source": [
    "## Exporting Data"
   ]
  },
  {
   "cell_type": "code",
   "execution_count": 4,
   "metadata": {},
   "outputs": [],
   "source": [
    "# write data to a file\n",
    "np.savetxt(\"HW03_data_set.csv\", np.hstack((X, y[:, None])), fmt = \"%f,%f,%d\")"
   ]
  },
  {
   "cell_type": "markdown",
   "metadata": {},
   "source": [
    "## Plotting Data"
   ]
  },
  {
   "cell_type": "code",
   "execution_count": 5,
   "metadata": {},
   "outputs": [
    {
     "data": {
      "image/png": "[encoded data removed]",
      "text/plain": [
       "<Figure size 720x720 with 1 Axes>"
      ]
     },
     "metadata": {
      "needs_background": "light"
     },
     "output_type": "display_data"
    }
   ],
   "source": [
    "# plot data points generated\n",
    "plt.figure(figsize = (10, 10))\n",
    "plt.plot(points1[:,0], points1[:,1], \"r.\", markersize = 10)\n",
    "plt.plot(points2[:,0], points2[:,1], \"g.\", markersize = 10)\n",
    "plt.plot(points3[:,0], points3[:,1], \"b.\", markersize = 10)\n",
    "plt.xlim((-8, +8))\n",
    "plt.ylim((-8, +8))\n",
    "plt.xlabel(\"$x_1$\")\n",
    "plt.ylabel(\"$x_2$\")\n",
    "plt.show()"
   ]
  },
  {
   "cell_type": "markdown",
   "metadata": {},
   "source": [
    "## Importing Data"
   ]
  },
  {
   "cell_type": "code",
   "execution_count": 6,
   "metadata": {},
   "outputs": [],
   "source": [
    "# read data into memory\n",
    "data_set = np.genfromtxt(\"HW03_data_set.csv\", delimiter = \",\")\n",
    "\n",
    "# get X and y values\n",
    "X = data_set[:,[0, 1]]\n",
    "y_truth = data_set[:,2].astype(int)\n",
    "\n",
    "# get number of classes and number of samples\n",
    "K = np.max(y_truth)\n",
    "N = data_set.shape[0]\n",
    "\n",
    "# one-of-K encoding\n",
    "Y_truth = np.zeros((N, K)).astype(int)\n",
    "Y_truth[range(N), y_truth - 1] = 1"
   ]
  },
  {
   "cell_type": "markdown",
   "metadata": {},
   "source": [
    "## Sigmoid Function"
   ]
  },
  {
   "cell_type": "markdown",
   "metadata": {},
   "source": [
    "$S(x) = \\dfrac{1}{1+e^{-\\alpha x}}$"
   ]
  },
  {
   "cell_type": "code",
   "execution_count": 7,
   "metadata": {},
   "outputs": [],
   "source": [
    "# define the sigmoid function\n",
    "def sigmoid(x, W, wo):\n",
    "    return 1/(1+np.exp(-(np.matmul(x, W)+wo)))"
   ]
  },
  {
   "cell_type": "markdown",
   "metadata": {},
   "source": [
    "## Gradient Functions"
   ]
  },
  {
   "cell_type": "markdown",
   "metadata": {},
   "source": [
    "\\begin{align*}\n",
    "\\dfrac{\\partial \\textrm{Error}}{\\partial \\boldsymbol{w}_{c}} &= -\\sum\\limits_{i = 1}^{N} (y_{ic} - \\widehat{y}_{ic})\\boldsymbol{x}_{i} \\\\\n",
    "\\dfrac{\\partial \\textrm{Error}}{\\partial w_{c0}} &= -\\sum\\limits_{i = 1}^{N} (y_{ic} - \\widehat{y}_{ic}) \n",
    "\\end{align*}"
   ]
  },
  {
   "cell_type": "code",
   "execution_count": 8,
   "metadata": {},
   "outputs": [],
   "source": [
    "# define the gradient functions\n",
    "#yaptığım \n",
    "def gradient_W(X, Y_truth, Y_predicted):\n",
    "    return(np.asarray([-np.matmul(Y_truth[:,c] - Y_predicted[:,c], X) for c in range(K)]).transpose())\n",
    "\n",
    "def gradient_w0(Y_truth, Y_predicted):\n",
    "    return(-np.sum(Y_truth - Y_predicted, axis = 0))\n",
    "\n",
    "# olması gereken \n",
    "def gradient_W(X, y_truth, y_predicted):\n",
    "    return(np.asarray([-np.sum(np.repeat(((Y_truth[:,c] - Y_predicted[:,c])* Y_predicted[:,c]*(1 - Y_predicted[:,c]))[:, None]\n",
    "                                         ,X.shape[1], axis = 1) * X, axis = 0) for c in range(K)]).transpose())\n",
    "\n",
    "def gradient_w0(Y_truth, Y_predicted):\n",
    "    return(-np.sum((Y_truth - Y_predicted)*Y_predicted*(1 - Y_predicted), axis = 0))"
   ]
  },
  {
   "cell_type": "markdown",
   "metadata": {},
   "source": [
    "## Algorithm Parameters"
   ]
  },
  {
   "cell_type": "code",
   "execution_count": 9,
   "metadata": {},
   "outputs": [],
   "source": [
    "# set learning parameters\n",
    "eta = 0.01\n",
    "epsilon = 0.001"
   ]
  },
  {
   "cell_type": "markdown",
   "metadata": {},
   "source": [
    "## Parameter Initialization"
   ]
  },
  {
   "cell_type": "code",
   "execution_count": 10,
   "metadata": {},
   "outputs": [],
   "source": [
    "# randomly initalize W and w0\n",
    "np.random.seed(421)\n",
    "W = np.random.uniform(low = -0.01, high = 0.01, size = (X.shape[1], K))\n",
    "w0 = np.random.uniform(low = -0.01, high = 0.01, size = (1, K))"
   ]
  },
  {
   "cell_type": "markdown",
   "metadata": {},
   "source": [
    "## Iterative Algorithm"
   ]
  },
  {
   "cell_type": "markdown",
   "metadata": {},
   "source": [
    "$\\textrm{Error} = 0.5\\sum\\limits_{i = 1}^{N} \\sum\\limits_{c = 1}^{K} (y_{ic}-\\hat{y}_{ic})^2$"
   ]
  },
  {
   "cell_type": "code",
   "execution_count": 11,
   "metadata": {},
   "outputs": [],
   "source": [
    "# learn W and w0 using gradient descent\n",
    "iteration = 1\n",
    "objective_values = []\n",
    "while 1:\n",
    "    Y_predicted = sigmoid(X, W, w0)\n",
    "\n",
    "    objective_values = np.append(objective_values, 0.5*np.sum((Y_predicted - Y_truth)**2))\n",
    "\n",
    "    W_old = W\n",
    "    w0_old = w0\n",
    "\n",
    "    W = W - eta * gradient_W(X, Y_truth, Y_predicted)\n",
    "    w0 = w0 - eta * gradient_w0(Y_truth, Y_predicted)\n",
    "\n",
    "    if np.sqrt(np.sum((w0 - w0_old))**2 + np.sum((W - W_old)**2)) < epsilon:\n",
    "        break\n",
    "\n",
    "    iteration = iteration + 1"
   ]
  },
  {
   "cell_type": "code",
   "execution_count": 12,
   "metadata": {},
   "outputs": [
    {
     "name": "stdout",
     "output_type": "stream",
     "text": [
      "[[-0.42756732 -2.52794134  2.8929295 ]\n",
      " [ 4.48391775 -2.29095954 -2.69298624]]\n",
      "[[-2.41798868 -3.3718741  -3.20890584]]\n"
     ]
    }
   ],
   "source": [
    "print(W)\n",
    "print(w0)"
   ]
  },
  {
   "cell_type": "markdown",
   "metadata": {},
   "source": [
    "## Convergence"
   ]
  },
  {
   "cell_type": "code",
   "execution_count": 13,
   "metadata": {},
   "outputs": [
    {
     "data": {
      "image/png": "[encoded data removed]",
      "text/plain": [
       "<Figure size 720x432 with 1 Axes>"
      ]
     },
     "metadata": {
      "needs_background": "light"
     },
     "output_type": "display_data"
    }
   ],
   "source": [
    "# plot objective function during iterations\n",
    "plt.figure(figsize = (10, 6))\n",
    "plt.plot(range(1, iteration + 1), objective_values, \"k-\")\n",
    "plt.xlabel(\"Iteration\")\n",
    "plt.ylabel(\"Error\")\n",
    "plt.show()"
   ]
  },
  {
   "cell_type": "markdown",
   "metadata": {},
   "source": [
    "## Training Performance"
   ]
  },
  {
   "cell_type": "code",
   "execution_count": 17,
   "metadata": {},
   "outputs": [
    {
     "data": {
      "text/plain": [
       "array([[9.99983284e-01, 2.58242432e-07, 1.46728810e-03],\n",
       "       [9.99697648e-01, 4.90818233e-04, 2.46443191e-05],\n",
       "       [9.78591710e-01, 3.93141313e-06, 2.13106237e-01],\n",
       "       [9.99757049e-01, 1.97870672e-02, 5.48219633e-07],\n",
       "       [9.73556633e-01, 3.79379869e-05, 3.74652720e-02],\n",
       "       [9.99999237e-01, 3.54783610e-03, 5.38561486e-09],\n",
       "       [9.99999596e-01, 1.17504462e-06, 5.91528265e-06],\n",
       "       [9.89550418e-01, 1.58931439e-03, 3.84392564e-04],\n",
       "       [9.99887981e-01, 3.84671436e-07, 7.92503061e-03],\n",
       "       [9.99994254e-01, 2.07648852e-07, 5.64733857e-04],\n",
       "       [9.99201461e-01, 1.31842849e-02, 2.98589110e-06],\n",
       "       [9.98954461e-01, 2.66604826e-02, 2.01200423e-06],\n",
       "       [9.98828815e-01, 3.05028856e-05, 1.55388284e-03],\n",
       "       [9.99977450e-01, 3.41760254e-05, 1.87291743e-05],\n",
       "       [9.99999906e-01, 7.57737012e-05, 2.20817464e-08],\n",
       "       [9.95016511e-01, 7.55809860e-04, 3.47957066e-04],\n",
       "       [9.99417858e-01, 1.36675427e-03, 1.88362637e-05],\n",
       "       [9.99999386e-01, 2.85268778e-11, 2.00431738e-01],\n",
       "       [8.99562489e-01, 5.38304103e-04, 1.40591120e-02],\n",
       "       [9.99995865e-01, 2.93002725e-06, 3.11059597e-05],\n",
       "       [5.96066328e-01, 1.41315362e-04, 2.69172944e-01],\n",
       "       [9.77383865e-01, 2.24075053e-04, 5.90589014e-03],\n",
       "       [9.92193778e-01, 9.08131555e-03, 5.19747145e-05],\n",
       "       [9.99534023e-01, 2.06274291e-02, 1.07140946e-06],\n",
       "       [9.99828465e-01, 7.59553177e-04, 8.72899459e-06],\n",
       "       [9.99977351e-01, 7.13252474e-08, 6.98862706e-03],\n",
       "       [9.99996891e-01, 1.46341609e-06, 4.43691427e-05],\n",
       "       [9.99829788e-01, 9.53083621e-02, 7.61336598e-08],\n",
       "       [9.96690262e-01, 5.61518596e-02, 3.36806886e-06],\n",
       "       [9.99913460e-01, 1.64922381e-04, 1.79316992e-05],\n",
       "       [9.90245996e-01, 4.56518479e-01, 8.68840782e-07],\n",
       "       [9.99347370e-01, 3.43203128e-07, 5.74895791e-02],\n",
       "       [9.99997163e-01, 8.37146911e-02, 1.00213815e-09],\n",
       "       [9.99278256e-01, 2.24077361e-03, 1.48069302e-05],\n",
       "       [9.99999955e-01, 1.78761756e-09, 2.74785918e-04],\n",
       "       [9.98087908e-01, 1.32068608e-04, 6.50856336e-04],\n",
       "       [8.78139598e-01, 8.71519820e-05, 9.40619175e-02],\n",
       "       [9.99999943e-01, 5.12038905e-08, 1.41462514e-05],\n",
       "       [7.61081616e-01, 4.80000005e-04, 4.68693728e-02],\n",
       "       [9.99998078e-01, 1.32507768e-05, 3.16698910e-06],\n",
       "       [9.99982773e-01, 7.31432259e-01, 2.75695752e-10],\n",
       "       [9.99999767e-01, 3.15138865e-08, 1.04760452e-04],\n",
       "       [9.94266913e-01, 2.39400749e-06, 9.23745888e-02],\n",
       "       [9.95649035e-01, 1.47416097e-07, 5.21997841e-01],\n",
       "       [9.09329603e-01, 2.03810038e-01, 3.39681987e-05],\n",
       "       [9.99264978e-01, 8.36547823e-03, 4.24064908e-06],\n",
       "       [9.99998967e-01, 5.20111522e-05, 4.33259999e-07],\n",
       "       [9.99996414e-01, 9.89467224e-03, 1.08237527e-08],\n",
       "       [9.99725360e-01, 9.70094174e-06, 9.58543825e-04],\n",
       "       [9.99998066e-01, 9.90366275e-04, 5.06872195e-08],\n",
       "       [9.99999795e-01, 4.27228888e-06, 8.18391893e-07],\n",
       "       [9.85009162e-01, 1.20778564e-06, 3.61375808e-01],\n",
       "       [9.99999650e-01, 2.87127266e-02, 3.01624055e-10],\n",
       "       [9.99878382e-01, 7.87648648e-05, 5.28385063e-05],\n",
       "       [9.99350572e-01, 1.82020251e-06, 1.20843606e-02],\n",
       "       [9.99907130e-01, 7.12517485e-09, 2.30448435e-01],\n",
       "       [9.99069953e-01, 3.75772125e-04, 1.08586016e-04],\n",
       "       [9.99999996e-01, 1.15437002e-09, 3.13539779e-05],\n",
       "       [9.99899091e-01, 1.05567600e-02, 3.87584441e-07],\n",
       "       [9.99998491e-01, 1.37710072e-06, 2.13693079e-05],\n",
       "       [9.99987274e-01, 2.24183037e-05, 1.50385140e-05],\n",
       "       [9.99998320e-01, 3.23282193e-07, 9.65601395e-05],\n",
       "       [9.56290907e-01, 1.81500118e-03, 1.67113169e-03],\n",
       "       [9.99982049e-01, 8.36611584e-03, 7.38098790e-08],\n",
       "       [9.99999996e-01, 1.89928666e-09, 1.95423158e-05],\n",
       "       [9.99999019e-01, 2.00298305e-08, 7.74788621e-04],\n",
       "       [9.99832253e-01, 1.13259724e-05, 4.82624450e-04],\n",
       "       [9.99999616e-01, 2.71138567e-05, 2.75228327e-07],\n",
       "       [9.99899296e-01, 1.56410564e-03, 2.43854119e-06],\n",
       "       [9.99997261e-01, 6.33579363e-02, 1.28677516e-09],\n",
       "       [9.99855418e-01, 2.42307968e-05, 1.97822180e-04],\n",
       "       [9.99997231e-01, 1.63428836e-05, 3.85790843e-06],\n",
       "       [9.94402611e-01, 6.58153052e-05, 4.10226267e-03],\n",
       "       [9.99853099e-01, 3.03996589e-03, 1.94279496e-06],\n",
       "       [9.95682693e-01, 9.37659227e-02, 2.64908715e-06],\n",
       "       [9.99164822e-01, 3.03421754e-06, 9.76135746e-03],\n",
       "       [9.99826882e-01, 1.27872830e-03, 5.34525556e-06],\n",
       "       [3.68205677e-01, 1.48277791e-01, 1.09531358e-03],\n",
       "       [9.93944037e-01, 2.78806706e-04, 1.12193441e-03],\n",
       "       [9.82308742e-01, 2.25905971e-02, 5.27948045e-05],\n",
       "       [9.99993593e-01, 3.52056317e-04, 5.05727057e-07],\n",
       "       [9.85104385e-01, 7.86688743e-05, 1.00982640e-02],\n",
       "       [9.99999506e-01, 1.33031012e-08, 5.43371445e-04],\n",
       "       [9.99999588e-01, 3.63503387e-07, 1.86377353e-05],\n",
       "       [9.99974745e-01, 3.10978862e-02, 2.97086581e-08],\n",
       "       [9.99956100e-01, 1.23103351e-06, 9.40310016e-04],\n",
       "       [9.97892224e-01, 1.55467647e-05, 5.61656323e-03],\n",
       "       [9.99990140e-01, 2.20259094e-06, 1.05557821e-04],\n",
       "       [9.97666833e-01, 1.84728079e-04, 5.86294665e-04],\n",
       "       [9.99999973e-01, 1.88256929e-06, 1.94350755e-07],\n",
       "       [9.98484875e-01, 1.67359809e-03, 4.40658554e-05],\n",
       "       [9.97159053e-01, 2.36017708e-07, 3.03558602e-01],\n",
       "       [7.06647735e-01, 8.77047442e-01, 6.60502437e-06],\n",
       "       [9.99999957e-01, 1.08358341e-04, 6.65451984e-09],\n",
       "       [3.50639144e-01, 2.05154178e-03, 7.78649278e-02],\n",
       "       [9.99991310e-01, 1.20323654e-02, 2.35136837e-08],\n",
       "       [9.93980820e-01, 3.15885158e-09, 9.84213194e-01],\n",
       "       [9.99997562e-01, 1.16069116e-06, 4.25024370e-05],\n",
       "       [9.99457025e-01, 1.33766713e-04, 1.62640238e-04],\n",
       "       [9.99948270e-01, 3.49546820e-06, 4.13267871e-04],\n",
       "       [9.99592024e-01, 4.97038973e-04, 3.37657212e-05],\n",
       "       [9.99292608e-01, 6.30914470e-06, 4.05607041e-03],\n",
       "       [9.39192618e-01, 2.93040868e-05, 1.13993184e-01],\n",
       "       [9.99978329e-01, 4.25124683e-06, 1.32584087e-04],\n",
       "       [9.97361721e-01, 8.76814822e-02, 1.65841524e-06],\n",
       "       [9.99999118e-01, 1.18145949e-04, 1.65830947e-07],\n",
       "       [9.99917069e-01, 1.60825808e-03, 1.92084392e-06],\n",
       "       [9.98300378e-01, 6.39328228e-03, 1.37397872e-05],\n",
       "       [9.99999965e-01, 1.32103440e-04, 4.46974401e-09],\n",
       "       [9.99966523e-01, 4.72314949e-02, 2.66210745e-08],\n",
       "       [9.99999969e-01, 1.61103620e-04, 3.15230343e-09],\n",
       "       [9.91969514e-01, 8.70283091e-04, 5.13027109e-04],\n",
       "       [9.99991204e-01, 7.01280626e-05, 3.36357858e-06],\n",
       "       [9.99916527e-01, 1.72037411e-04, 1.65544853e-05],\n",
       "       [9.99999961e-01, 1.43127465e-10, 2.64912278e-03],\n",
       "       [9.99996431e-01, 5.22726787e-05, 1.66686991e-06],\n",
       "       [9.99982730e-01, 1.00674590e-03, 5.43907450e-07],\n",
       "       [9.99799663e-01, 3.49517203e-05, 1.98666875e-04],\n",
       "       [9.99901107e-01, 6.83758529e-04, 5.29447001e-06],\n",
       "       [9.99988055e-01, 5.37582009e-03, 7.25602652e-08],\n",
       "       [7.68849785e-05, 6.85863666e-01, 6.23224479e-01],\n",
       "       [7.36073606e-03, 6.69646897e-01, 1.20062154e-02],\n",
       "       [7.76890509e-04, 6.27335508e-01, 1.45365123e-01],\n",
       "       [2.56466974e-06, 9.99700920e-01, 5.59482852e-02],\n",
       "       [8.63801722e-05, 9.99498681e-01, 2.09330489e-03],\n",
       "       [7.82464115e-07, 9.99966224e-01, 2.59785091e-02],\n",
       "       [1.35840684e-05, 9.99832249e-01, 5.48790228e-03],\n",
       "       [4.81808971e-05, 9.99824932e-01, 1.44230835e-03],\n",
       "       [2.13711021e-08, 9.99999972e-01, 1.50165753e-03],\n",
       "       [3.98013509e-06, 9.99992453e-01, 1.07180378e-03],\n",
       "       [6.46173346e-05, 9.70609416e-01, 1.28490280e-01],\n",
       "       [1.17507028e-05, 9.99991116e-01, 3.85011148e-04],\n",
       "       [2.21499251e-06, 9.99864143e-01, 3.15719901e-02],\n",
       "       [7.38724340e-08, 9.99988580e-01, 1.10066823e-01],\n",
       "       [5.75170464e-06, 9.99994901e-01, 4.92557357e-04],\n",
       "       [3.33985586e-04, 9.84546942e-01, 1.29001882e-02],\n",
       "       [1.91382833e-05, 9.98918054e-01, 2.22336734e-02],\n",
       "       [2.46850987e-04, 9.87481796e-01, 1.45913972e-02],\n",
       "       [3.67858460e-05, 9.99897598e-01, 1.15737754e-03],\n",
       "       [2.27497541e-06, 9.99992460e-01, 1.96969864e-03],\n",
       "       [7.48344166e-06, 9.99905466e-01, 6.06108146e-03],\n",
       "       [1.37114097e-03, 9.99966046e-01, 7.73961752e-06],\n",
       "       [1.32759864e-03, 9.98666647e-01, 2.71948245e-04],\n",
       "       [6.49347958e-02, 8.10484005e-01, 5.16754629e-04],\n",
       "       [5.50663967e-06, 9.99887081e-01, 1.00058014e-02],\n",
       "       [4.38227580e-09, 9.99999899e-01, 2.79036748e-02],\n",
       "       [1.65738314e-06, 9.99106869e-01, 2.14371507e-01],\n",
       "       [4.42233017e-09, 9.99999900e-01, 2.74174153e-02],\n",
       "       [5.44696801e-09, 9.99993572e-01, 5.50533041e-01],\n",
       "       [1.34365721e-04, 9.99973589e-01, 7.67638720e-05],\n",
       "       [4.04743911e-05, 9.99917296e-01, 8.49704629e-04],\n",
       "       [7.15820873e-02, 1.89965088e-01, 7.43008114e-03],\n",
       "       [3.82614408e-06, 9.99382010e-01, 7.14067981e-02],\n",
       "       [2.86062735e-03, 8.01981641e-01, 1.73185148e-02],\n",
       "       [4.99915646e-06, 9.99997702e-01, 2.67171894e-04],\n",
       "       [2.64443374e-01, 1.74966230e-02, 1.62989835e-02],\n",
       "       [4.23008416e-02, 8.35005524e-01, 7.20136055e-04],\n",
       "       [4.52015719e-03, 8.87974012e-01, 5.57434319e-03],\n",
       "       [5.92465619e-08, 9.99999999e-01, 1.21349499e-05],\n",
       "       [3.01580672e-04, 9.99182838e-01, 8.56363537e-04],\n",
       "       [5.96016022e-01, 2.62684728e-01, 2.00133525e-04],\n",
       "       [4.24269254e-03, 9.99171342e-01, 4.83295374e-05],\n",
       "       [4.59040159e-06, 9.99797745e-01, 2.11146553e-02],\n",
       "       [3.31417452e-09, 9.99999910e-01, 3.38432141e-02],\n",
       "       [2.02979411e-02, 9.74444683e-01, 2.36854695e-04],\n",
       "       [3.22971943e-08, 9.99999862e-01, 4.39011866e-03],\n",
       "       [1.22926113e-04, 9.99032236e-01, 2.67768867e-03],\n",
       "       [2.58057735e-01, 2.83853685e-02, 1.05685457e-02],\n",
       "       [3.32908079e-06, 9.99924735e-01, 1.17177365e-02],\n",
       "       [4.25154016e-05, 9.97810596e-01, 1.83988942e-02],\n",
       "       [1.73295580e-01, 4.42774158e-02, 1.17815330e-02],\n",
       "       [2.05682800e-06, 9.99955713e-01, 1.19080386e-02],\n",
       "       [2.35522401e-02, 9.89493626e-01, 8.42560550e-05],\n",
       "       [1.00382503e-05, 9.98764497e-01, 4.96375489e-02],\n",
       "       [5.73588849e-05, 9.90674899e-01, 5.18645250e-02],\n",
       "       [2.91700678e-03, 9.83870849e-01, 1.27558760e-03],\n",
       "       [4.97146386e-03, 9.96649224e-01, 1.55654898e-04],\n",
       "       [4.13344208e-06, 9.99974409e-01, 3.31338054e-03],\n",
       "       [7.32698206e-03, 6.46495489e-01, 1.33024482e-02],\n",
       "       [2.94331771e-08, 9.99999908e-01, 3.28070306e-03],\n",
       "       [2.06439776e-04, 9.99952392e-01, 8.45810737e-05],\n",
       "       [4.32767094e-05, 9.99383932e-01, 5.40576500e-03],\n",
       "       [3.48188646e-08, 9.99999823e-01, 5.11537968e-03],\n",
       "       [4.88119138e-08, 9.99999866e-01, 2.71761330e-03],\n",
       "       [1.46226053e-04, 9.96274177e-01, 8.05839245e-03],\n",
       "       [8.13919055e-06, 9.99988823e-01, 7.16165021e-04],\n",
       "       [4.59253172e-09, 9.99999928e-01, 1.94392887e-02],\n",
       "       [1.16032862e-05, 9.99426316e-01, 2.08946023e-02],\n",
       "       [3.79975931e-06, 9.99918625e-01, 1.09412077e-02],\n",
       "       [1.00190455e-05, 9.99942570e-01, 2.74137713e-03],\n",
       "       [2.12564543e-07, 9.99999565e-01, 1.69318965e-03],\n",
       "       [2.33634455e-08, 9.99995250e-01, 1.57616627e-01],\n",
       "       [7.13122297e-04, 9.99605569e-01, 1.66407886e-04],\n",
       "       [7.29664418e-05, 9.92793801e-01, 3.17399813e-02],\n",
       "       [3.41993672e-04, 9.54531796e-01, 3.56463334e-02],\n",
       "       [3.61937619e-06, 9.99832397e-01, 2.28082238e-02],\n",
       "       [2.99238100e-04, 9.99603408e-01, 4.31528425e-04],\n",
       "       [1.80261274e-06, 9.99899289e-01, 2.97132896e-02],\n",
       "       [3.48229480e-02, 9.84525787e-01, 7.91243808e-05],\n",
       "       [7.65095960e-09, 9.99999976e-01, 3.98167423e-03],\n",
       "       [1.16737239e-08, 6.99007920e-02, 9.99998375e-01],\n",
       "       [1.00346802e-09, 3.26056637e-03, 9.99999994e-01],\n",
       "       [2.07154836e-08, 2.61318276e-02, 9.99998870e-01],\n",
       "       [4.12619851e-10, 1.63718403e-02, 9.99999990e-01],\n",
       "       [3.00360728e-11, 2.53279329e-03, 1.00000000e+00],\n",
       "       [2.97668438e-04, 3.56887210e-02, 9.49778912e-01],\n",
       "       [1.53611146e-10, 1.12958430e-03, 1.00000000e+00],\n",
       "       [4.33313058e-08, 2.26076413e-02, 9.99997807e-01],\n",
       "       [2.94660398e-01, 5.03769479e-02, 4.90905704e-03],\n",
       "       [8.70815285e-06, 1.27234664e-03, 9.99955812e-01],\n",
       "       [1.45374287e-05, 1.09420553e-01, 9.93833663e-01],\n",
       "       [1.12471882e-03, 5.43662796e-02, 7.43799149e-01],\n",
       "       [1.38596305e-04, 2.48660849e-01, 8.41728135e-01],\n",
       "       [6.63956107e-09, 3.00214865e-03, 9.99999960e-01],\n",
       "       [4.37167915e-07, 2.97795839e-03, 9.99996172e-01],\n",
       "       [2.83140467e-10, 1.10949873e-02, 9.99999995e-01],\n",
       "       [2.25790824e-05, 5.18941775e-03, 9.99516728e-01],\n",
       "       [6.06849744e-05, 3.98027621e-03, 9.98900198e-01],\n",
       "       [6.29248406e-09, 2.17114815e-01, 9.99997101e-01],\n",
       "       [1.45245916e-04, 3.60102757e-02, 9.76198012e-01],\n",
       "       [1.07794285e-06, 1.87750588e-03, 9.99993426e-01],\n",
       "       [1.18786789e-05, 7.10456769e-03, 9.99675159e-01],\n",
       "       [5.99918669e-12, 1.32719943e-01, 9.99999999e-01],\n",
       "       [1.86930659e-08, 1.61242680e-01, 9.99993311e-01],\n",
       "       [1.95719749e-03, 9.20301168e-03, 9.01157022e-01],\n",
       "       [9.54401343e-05, 3.76830581e-03, 9.98291109e-01],\n",
       "       [6.79928358e-07, 1.21651061e-02, 9.99975860e-01],\n",
       "       [1.55897043e-04, 2.37974579e-02, 9.82814390e-01],\n",
       "       [4.70173353e-06, 4.61950773e-02, 9.99259570e-01],\n",
       "       [8.15635993e-06, 5.70278917e-05, 9.99997913e-01],\n",
       "       [1.73237108e-09, 3.15608144e-01, 9.99998844e-01],\n",
       "       [3.17216472e-11, 1.49988365e-01, 9.99999994e-01],\n",
       "       [1.23574940e-01, 2.75064136e-03, 2.16046122e-01],\n",
       "       [1.29216134e-08, 5.82711172e-03, 9.99999843e-01],\n",
       "       [6.08413337e-02, 6.46788113e-04, 7.21335255e-01],\n",
       "       [3.64604662e-03, 2.51472400e-02, 6.33933024e-01],\n",
       "       [1.20254702e-03, 1.13315827e-03, 9.91511851e-01],\n",
       "       [9.81282361e-06, 7.36611439e-04, 9.99970226e-01],\n",
       "       [7.49946825e-07, 3.75853675e-03, 9.99991369e-01],\n",
       "       [1.24787769e-08, 9.24751598e-03, 9.99999764e-01],\n",
       "       [7.77324020e-05, 1.33503930e-03, 9.99496013e-01],\n",
       "       [1.45430481e-07, 1.41992184e-02, 9.99994785e-01],\n",
       "       [1.11189437e-05, 2.56008979e-04, 9.99987632e-01],\n",
       "       [2.85978610e-08, 1.63739419e-01, 9.99989174e-01],\n",
       "       [4.98536604e-07, 2.02176279e-02, 9.99971760e-01],\n",
       "       [1.23462781e-08, 1.25404867e-01, 9.99996789e-01],\n",
       "       [3.74017028e-07, 2.24883747e-04, 9.99999730e-01],\n",
       "       [1.64865498e-07, 4.73259168e-02, 9.99980376e-01],\n",
       "       [3.57866597e-08, 8.88045816e-05, 9.99999991e-01],\n",
       "       [1.18803705e-08, 1.27874597e-03, 9.99999967e-01],\n",
       "       [2.04253352e-09, 3.53263747e-02, 9.99999878e-01],\n",
       "       [1.09759863e-05, 9.53504538e-03, 9.99603846e-01],\n",
       "       [2.73968310e-05, 2.76098395e-02, 9.96972972e-01],\n",
       "       [4.22357627e-06, 4.75542642e-03, 9.99928636e-01],\n",
       "       [4.59473065e-06, 9.17183199e-04, 9.99983939e-01],\n",
       "       [1.43346367e-08, 6.99119008e-03, 9.99999791e-01],\n",
       "       [5.07515414e-05, 7.87059594e-04, 9.99809437e-01],\n",
       "       [2.53534258e-10, 1.62938066e-02, 9.99999994e-01],\n",
       "       [3.18979756e-03, 1.94235898e-03, 9.59922972e-01],\n",
       "       [2.40259510e-01, 7.17836650e-05, 7.91161634e-01],\n",
       "       [5.73409329e-07, 3.30064506e-02, 9.99946672e-01],\n",
       "       [3.57049791e-03, 4.64721467e-04, 9.88188718e-01],\n",
       "       [1.49483515e-05, 1.09944058e-04, 9.99992412e-01],\n",
       "       [6.22510948e-01, 3.25940572e-04, 1.27595604e-01],\n",
       "       [4.36266618e-09, 1.85172553e-02, 9.99999853e-01],\n",
       "       [6.85967129e-04, 1.95683504e-02, 9.32215413e-01],\n",
       "       [2.85871436e-05, 4.48831076e-03, 9.99456548e-01],\n",
       "       [3.10467023e-06, 1.03255695e-01, 9.98919339e-01],\n",
       "       [5.88994033e-06, 2.26837440e-04, 9.99994494e-01],\n",
       "       [7.64471700e-07, 1.13364260e-04, 9.99999695e-01],\n",
       "       [7.52038818e-07, 5.48107029e-03, 9.99987545e-01],\n",
       "       [3.39398031e-07, 1.97750276e-02, 9.99981833e-01],\n",
       "       [1.01691711e-11, 1.59726620e-03, 1.00000000e+00],\n",
       "       [6.17632233e-10, 1.04733548e-02, 9.99999990e-01],\n",
       "       [8.01400441e-09, 4.17238928e-02, 9.99999362e-01],\n",
       "       [8.02898146e-02, 4.12675175e-02, 3.21993179e-02],\n",
       "       [8.28629882e-07, 2.04068554e-02, 9.99950389e-01],\n",
       "       [3.10711686e-06, 3.11425128e-03, 9.99966045e-01],\n",
       "       [2.19851014e-05, 1.44432626e-02, 9.98735825e-01],\n",
       "       [9.72615417e-05, 7.79600673e-03, 9.96487462e-01],\n",
       "       [1.51364222e-05, 7.10626526e-03, 9.99576781e-01],\n",
       "       [1.42517484e-03, 3.71556127e-02, 7.66709315e-01],\n",
       "       [4.43190291e-08, 3.25618840e-03, 9.99999657e-01],\n",
       "       [3.81797989e-07, 4.04598695e-04, 9.99999515e-01],\n",
       "       [3.03729286e-06, 7.69349961e-02, 9.99226055e-01],\n",
       "       [2.64207487e-04, 1.62720393e-01, 8.14283468e-01],\n",
       "       [3.00581322e-02, 4.25950778e-03, 4.85739181e-01],\n",
       "       [1.94340578e-07, 1.00687576e-03, 9.99999443e-01],\n",
       "       [1.65427013e-04, 1.38501388e-03, 9.98810504e-01],\n",
       "       [6.48278746e-10, 2.78956773e-03, 9.99999997e-01],\n",
       "       [1.07095208e-04, 1.89003995e-03, 9.99001843e-01],\n",
       "       [1.03523406e-05, 7.14439873e-02, 9.97273840e-01],\n",
       "       [8.40141372e-03, 3.52299345e-04, 9.77109457e-01],\n",
       "       [4.92065225e-02, 5.10306148e-03, 3.11994029e-01],\n",
       "       [1.15415273e-07, 2.30148618e-03, 9.99999301e-01],\n",
       "       [5.44829112e-10, 4.36569663e-02, 9.99999964e-01],\n",
       "       [9.92669852e-05, 2.96573740e-03, 9.98583229e-01],\n",
       "       [4.86531436e-06, 9.74277957e-02, 9.98342800e-01],\n",
       "       [2.82225720e-08, 2.36700821e-03, 9.99999846e-01],\n",
       "       [9.15160705e-04, 3.37724850e-04, 9.98017684e-01]])"
      ]
     },
     "execution_count": 17,
     "metadata": {},
     "output_type": "execute_result"
    }
   ],
   "source": [
    "Y_predicted"
   ]
  },
  {
   "cell_type": "code",
   "execution_count": 14,
   "metadata": {},
   "outputs": [
    {
     "name": "stdout",
     "output_type": "stream",
     "text": [
      "y_truth    1   2   3\n",
      "y_pred              \n",
      "1        119   4   3\n",
      "2          1  76   0\n",
      "3          0   0  97\n"
     ]
    }
   ],
   "source": [
    "# calculate confusion matrix\n",
    "y_predicted = np.argmax(Y_predicted, axis = 1) + 1\n",
    "confusion_matrix = pd.crosstab(y_predicted, y_truth, rownames = ['y_pred'], colnames = ['y_truth'])\n",
    "print(confusion_matrix)"
   ]
  },
  {
   "cell_type": "markdown",
   "metadata": {},
   "source": [
    "## Visualization"
   ]
  },
  {
   "cell_type": "code",
   "execution_count": 16,
   "metadata": {},
   "outputs": [
    {
     "data": {
      "image/png": "[encoded data removed]",
      "text/plain": [
       "<Figure size 720x720 with 1 Axes>"
      ]
     },
     "metadata": {
      "needs_background": "light"
     },
     "output_type": "display_data"
    }
   ],
   "source": [
    "# evaluate discriminant function on a grid\n",
    "x1_interval = np.linspace(-8, +8, 1201)\n",
    "x2_interval = np.linspace(-8, +8, 1201)\n",
    "x1_grid, x2_grid = np.meshgrid(x1_interval, x2_interval)\n",
    "discriminant_values = np.zeros((len(x1_interval), len(x2_interval), K))\n",
    "for c in range(K):\n",
    "    discriminant_values[:,:,c] = W[0, c] * x1_grid + W[1, c] * x2_grid + w0[0, c]\n",
    "\n",
    "A = discriminant_values[:,:,0]\n",
    "B = discriminant_values[:,:,1]\n",
    "C = discriminant_values[:,:,2]\n",
    "A[(A < B) & (A < C)] = np.nan\n",
    "B[(B < A) & (B < C)] = np.nan\n",
    "C[(C < A) & (C < B)] = np.nan\n",
    "discriminant_values[:,:,0] = A\n",
    "discriminant_values[:,:,1] = B\n",
    "discriminant_values[:,:,2] = C\n",
    "\n",
    "plt.figure(figsize = (10, 10))\n",
    "plt.plot(X[y_truth == 1, 0], X[y_truth == 1, 1], \"r.\", markersize = 10)\n",
    "plt.plot(X[y_truth == 2, 0], X[y_truth == 2, 1], \"g.\", markersize = 10)\n",
    "plt.plot(X[y_truth == 3, 0], X[y_truth == 3, 1], \"b.\", markersize = 10)\n",
    "plt.plot(X[y_predicted != y_truth, 0], X[y_predicted != y_truth, 1], \"ko\", markersize = 12, fillstyle = \"none\")\n",
    "plt.contour(x1_grid, x2_grid, discriminant_values[:,:,0] - discriminant_values[:,:,1], levels = 0, colors = \"k\")\n",
    "plt.contour(x1_grid, x2_grid, discriminant_values[:,:,0] - discriminant_values[:,:,2], levels = 0, colors = \"k\")\n",
    "plt.contour(x1_grid, x2_grid, discriminant_values[:,:,1] - discriminant_values[:,:,2], levels = 0, colors = \"k\")\n",
    "plt.xlabel(\"$x_1$\")\n",
    "plt.ylabel(\"$x_2$\")\n",
    "plt.show()"
   ]
  },
  {
   "cell_type": "code",
   "execution_count": null,
   "metadata": {},
   "outputs": [],
   "source": []
  },
  {
   "cell_type": "code",
   "execution_count": null,
   "metadata": {},
   "outputs": [],
   "source": []
  }
 ],
 "metadata": {
  "kernelspec": {
   "display_name": "Python 3",
   "language": "python",
   "name": "python3"
  },
  "language_info": {
   "codemirror_mode": {
    "name": "ipython",
    "version": 3
   },
   "file_extension": ".py",
   "mimetype": "text/x-python",
   "name": "python",
   "nbconvert_exporter": "python",
   "pygments_lexer": "ipython3",
   "version": "3.8.8"
  }
 },
 "nbformat": 4,
 "nbformat_minor": 4
}
